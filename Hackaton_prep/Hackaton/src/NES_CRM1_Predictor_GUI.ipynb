{
 "cells": [
  {
   "cell_type": "markdown",
   "metadata": {
    "id": "YkbRfXXcWjcO"
   },
   "source": [
    "Cell 1: Install dependencies"
   ]
  },
  {
   "cell_type": "code",
   "execution_count": 1,
   "metadata": {
    "ExecuteTime": {
     "end_time": "2025-06-22T14:07:39.060836Z",
     "start_time": "2025-06-22T14:07:35.157742Z"
    },
    "id": "H4DvPATFVPog"
   },
   "outputs": [
    {
     "name": "stdout",
     "output_type": "stream",
     "text": [
      "Requirement already satisfied: numpy in c:\\users\\amitait\\onedrive - mobileye\\desktop\\prjects huji\\hackaton_prep\\hackaton\\.venv\\lib\\site-packages (2.2.6)\n",
      "Requirement already satisfied: torch in c:\\users\\amitait\\onedrive - mobileye\\desktop\\prjects huji\\hackaton_prep\\hackaton\\.venv\\lib\\site-packages (2.7.0)\n",
      "Requirement already satisfied: pandas in c:\\users\\amitait\\onedrive - mobileye\\desktop\\prjects huji\\hackaton_prep\\hackaton\\.venv\\lib\\site-packages (2.2.3)\n",
      "Requirement already satisfied: matplotlib in c:\\users\\amitait\\onedrive - mobileye\\desktop\\prjects huji\\hackaton_prep\\hackaton\\.venv\\lib\\site-packages (3.10.3)\n",
      "Requirement already satisfied: scikit-learn in c:\\users\\amitait\\onedrive - mobileye\\desktop\\prjects huji\\hackaton_prep\\hackaton\\.venv\\lib\\site-packages (1.6.1)\n",
      "Requirement already satisfied: fair-esm in c:\\users\\amitait\\onedrive - mobileye\\desktop\\prjects huji\\hackaton_prep\\hackaton\\.venv\\lib\\site-packages (2.0.0)\n",
      "Requirement already satisfied: filelock in c:\\users\\amitait\\onedrive - mobileye\\desktop\\prjects huji\\hackaton_prep\\hackaton\\.venv\\lib\\site-packages (from torch) (3.18.0)\n",
      "Requirement already satisfied: typing-extensions>=4.10.0 in c:\\users\\amitait\\onedrive - mobileye\\desktop\\prjects huji\\hackaton_prep\\hackaton\\.venv\\lib\\site-packages (from torch) (4.14.0)\n",
      "Requirement already satisfied: sympy>=1.13.3 in c:\\users\\amitait\\onedrive - mobileye\\desktop\\prjects huji\\hackaton_prep\\hackaton\\.venv\\lib\\site-packages (from torch) (1.14.0)\n",
      "Requirement already satisfied: networkx in c:\\users\\amitait\\onedrive - mobileye\\desktop\\prjects huji\\hackaton_prep\\hackaton\\.venv\\lib\\site-packages (from torch) (3.5)\n",
      "Requirement already satisfied: jinja2 in c:\\users\\amitait\\onedrive - mobileye\\desktop\\prjects huji\\hackaton_prep\\hackaton\\.venv\\lib\\site-packages (from torch) (3.1.6)\n",
      "Requirement already satisfied: fsspec in c:\\users\\amitait\\onedrive - mobileye\\desktop\\prjects huji\\hackaton_prep\\hackaton\\.venv\\lib\\site-packages (from torch) (2025.5.1)\n",
      "Requirement already satisfied: python-dateutil>=2.8.2 in c:\\users\\amitait\\onedrive - mobileye\\desktop\\prjects huji\\hackaton_prep\\hackaton\\.venv\\lib\\site-packages (from pandas) (2.9.0.post0)\n",
      "Requirement already satisfied: pytz>=2020.1 in c:\\users\\amitait\\onedrive - mobileye\\desktop\\prjects huji\\hackaton_prep\\hackaton\\.venv\\lib\\site-packages (from pandas) (2025.2)\n",
      "Requirement already satisfied: tzdata>=2022.7 in c:\\users\\amitait\\onedrive - mobileye\\desktop\\prjects huji\\hackaton_prep\\hackaton\\.venv\\lib\\site-packages (from pandas) (2025.2)\n",
      "Requirement already satisfied: contourpy>=1.0.1 in c:\\users\\amitait\\onedrive - mobileye\\desktop\\prjects huji\\hackaton_prep\\hackaton\\.venv\\lib\\site-packages (from matplotlib) (1.3.2)\n",
      "Requirement already satisfied: cycler>=0.10 in c:\\users\\amitait\\onedrive - mobileye\\desktop\\prjects huji\\hackaton_prep\\hackaton\\.venv\\lib\\site-packages (from matplotlib) (0.12.1)\n",
      "Requirement already satisfied: fonttools>=4.22.0 in c:\\users\\amitait\\onedrive - mobileye\\desktop\\prjects huji\\hackaton_prep\\hackaton\\.venv\\lib\\site-packages (from matplotlib) (4.58.1)\n",
      "Requirement already satisfied: kiwisolver>=1.3.1 in c:\\users\\amitait\\onedrive - mobileye\\desktop\\prjects huji\\hackaton_prep\\hackaton\\.venv\\lib\\site-packages (from matplotlib) (1.4.8)\n",
      "Requirement already satisfied: packaging>=20.0 in c:\\users\\amitait\\onedrive - mobileye\\desktop\\prjects huji\\hackaton_prep\\hackaton\\.venv\\lib\\site-packages (from matplotlib) (25.0)\n",
      "Requirement already satisfied: pillow>=8 in c:\\users\\amitait\\onedrive - mobileye\\desktop\\prjects huji\\hackaton_prep\\hackaton\\.venv\\lib\\site-packages (from matplotlib) (11.2.1)\n",
      "Requirement already satisfied: pyparsing>=2.3.1 in c:\\users\\amitait\\onedrive - mobileye\\desktop\\prjects huji\\hackaton_prep\\hackaton\\.venv\\lib\\site-packages (from matplotlib) (3.2.3)\n",
      "Requirement already satisfied: scipy>=1.6.0 in c:\\users\\amitait\\onedrive - mobileye\\desktop\\prjects huji\\hackaton_prep\\hackaton\\.venv\\lib\\site-packages (from scikit-learn) (1.15.3)\n",
      "Requirement already satisfied: joblib>=1.2.0 in c:\\users\\amitait\\onedrive - mobileye\\desktop\\prjects huji\\hackaton_prep\\hackaton\\.venv\\lib\\site-packages (from scikit-learn) (1.5.1)\n",
      "Requirement already satisfied: threadpoolctl>=3.1.0 in c:\\users\\amitait\\onedrive - mobileye\\desktop\\prjects huji\\hackaton_prep\\hackaton\\.venv\\lib\\site-packages (from scikit-learn) (3.6.0)\n",
      "Requirement already satisfied: six>=1.5 in c:\\users\\amitait\\onedrive - mobileye\\desktop\\prjects huji\\hackaton_prep\\hackaton\\.venv\\lib\\site-packages (from python-dateutil>=2.8.2->pandas) (1.17.0)\n",
      "Requirement already satisfied: mpmath<1.4,>=1.1.0 in c:\\users\\amitait\\onedrive - mobileye\\desktop\\prjects huji\\hackaton_prep\\hackaton\\.venv\\lib\\site-packages (from sympy>=1.13.3->torch) (1.3.0)\n",
      "Requirement already satisfied: MarkupSafe>=2.0 in c:\\users\\amitait\\onedrive - mobileye\\desktop\\prjects huji\\hackaton_prep\\hackaton\\.venv\\lib\\site-packages (from jinja2->torch) (3.0.2)\n",
      "Note: you may need to restart the kernel to use updated packages.\n"
     ]
    },
    {
     "name": "stderr",
     "output_type": "stream",
     "text": [
      "WARNING: There was an error checking the latest version of pip.\n"
     ]
    }
   ],
   "source": [
    "pip install numpy torch pandas matplotlib scikit-learn fair-esm"
   ]
  },
  {
   "cell_type": "markdown",
   "metadata": {
    "id": "5etJ0QsqWnUI"
   },
   "source": [
    "Cell 2: Imports & Environment Setup f"
   ]
  },
  {
   "cell_type": "code",
   "execution_count": 2,
   "metadata": {
    "ExecuteTime": {
     "end_time": "2025-06-22T14:07:47.393310Z",
     "start_time": "2025-06-22T14:07:47.386818Z"
    },
    "id": "rKGZti6sWU4r"
   },
   "outputs": [],
   "source": [
    "import os, sys\n",
    "import numpy as np\n",
    "import esm\n",
    "import torch\n",
    "import tkinter as tk\n",
    "from tkinter import scrolledtext, messagebox\n",
    "import pandas as pd\n",
    "import torch\n",
    "import torch.nn as nn\n",
    "from matplotlib import pyplot as plt\n",
    "from torch.utils.data import Dataset, DataLoader\n",
    "import numpy as np\n",
    "from typing import List\n",
    "import pickle\n",
    "import os\n",
    "from sklearn.model_selection import train_test_split\n",
    "from sklearn.metrics import precision_recall_fscore_support\n",
    "import itertools\n",
    "import csv\n",
    "import collections\n",
    "\n",
    "from sklearn.metrics import classification_report\n",
    "# Allow import from src/\n",
    "THIS_DIR = os.getcwd()  # Modify if needed\n",
    "sys.path.insert(0, THIS_DIR)\n"
   ]
  },
  {
   "cell_type": "markdown",
   "metadata": {
    "id": "7A_LB2oFWsk_"
   },
   "source": [
    "Cell 3: Import your model code"
   ]
  },
  {
   "cell_type": "code",
   "execution_count": 3,
   "metadata": {
    "ExecuteTime": {
     "end_time": "2025-06-22T14:26:32.511623Z",
     "start_time": "2025-06-22T14:26:32.498081Z"
    },
    "id": "uEXZ4VEfWv6F"
   },
   "outputs": [],
   "source": [
    "# Assuming these are available under src/\n",
    "from grid_search_scripts.grid_search_binding_predictor_esm_without_weight import (\n",
    "    BindingPredictor,\n",
    "    load_esm_model,\n",
    "    get_esm_embeddings,\n",
    ")\n",
    "\n"
   ]
  },
  {
   "cell_type": "markdown",
   "metadata": {
    "id": "hNyec1VtW2II"
   },
   "source": [
    " Cell 4: Define model path with weight"
   ]
  },
  {
   "cell_type": "code",
   "execution_count": 8,
   "metadata": {
    "ExecuteTime": {
     "end_time": "2025-06-22T14:07:54.797818Z",
     "start_time": "2025-06-22T14:07:54.794152Z"
    },
    "id": "Rrhe0uvYW5v9"
   },
   "outputs": [],
   "source": [
    "# Adjust path to saved model\n",
    "PROJECT_ROOT = os.path.abspath(os.path.join(THIS_DIR, \"..\"))\n",
    "MODEL_PATH = os.path.join(PROJECT_ROOT, \"saved_models\", \"model_emb_best_weight.pt\")\n",
    "EMBEDDING_SIZE = 640\n"
   ]
  },
  {
   "cell_type": "markdown",
   "metadata": {},
   "source": [
    " Cell 4:[**Optional**] Define model path **without** weight"
   ]
  },
  {
   "cell_type": "code",
   "execution_count": 11,
   "metadata": {},
   "outputs": [],
   "source": [
    "# Adjust path to saved model\n",
    "PROJECT_ROOT = os.path.abspath(os.path.join(THIS_DIR, \"..\"))\n",
    "MODEL_PATH = os.path.join(PROJECT_ROOT, \"saved_models\", \"model_emb_best_without_weight.pt\")\n",
    "EMBEDDING_SIZE = 1280\n"
   ]
  },
  {
   "cell_type": "markdown",
   "metadata": {
    "id": "vCNyT2BqW9Y7"
   },
   "source": [
    "Cell 5: GUI App & Prediction Logic & Output Handler & Main GUI Launch"
   ]
  },
  {
   "cell_type": "code",
   "execution_count": 12,
   "metadata": {
    "ExecuteTime": {
     "end_time": "2025-06-22T14:07:57.332446Z",
     "start_time": "2025-06-22T14:07:57.320017Z"
    },
    "id": "p2zNcCfRXAjX"
   },
   "outputs": [],
   "source": [
    "class SequencePredictorApp:\n",
    "    def __init__(self, root):\n",
    "        self.root = root\n",
    "        root.title(\"NES–CRM1 Contact Predictor\")\n",
    "\n",
    "        # 1) load ESM backbone (once)\n",
    "        self.esm_model, self.alphabet, self.batch_converter, self.device = \\\n",
    "            load_esm_model(embedding_size=EMBEDDING_SIZE)\n",
    "\n",
    "        # 2) instantiate & load your trained classifier\n",
    "        self.classifier = self._load_classifier(MODEL_PATH)\n",
    "\n",
    "        # ─── build the simple UI ────────────────────────────────\n",
    "        tk.Label(root, text=\"Enter amino-acid sequence:\").pack(padx=10, pady=(10, 0))\n",
    "        self.seq_var = tk.StringVar()\n",
    "        tk.Entry(root, textvariable=self.seq_var, width=60).pack(padx=10, pady=5)\n",
    "        tk.Button(root, text=\"Predict\", command=self.on_predict).pack(padx=10, pady=5)\n",
    "        tk.Label(root, text=\"Per-residue contact probability:\").pack(padx=10, pady=(10, 0))\n",
    "\n",
    "        self.output = scrolledtext.ScrolledText(root, width=70, height=15, state=\"disabled\")\n",
    "        self.output.pack(padx=10, pady=5)\n",
    "\n",
    "    def _load_classifier(self, path):\n",
    "        model = BindingPredictor(emb_dim=EMBEDDING_SIZE, hidden_dim=128)\n",
    "        state = torch.load(path, map_location=self.device)\n",
    "        model.load_state_dict(state)\n",
    "        model.to(self.device)\n",
    "        model.eval()\n",
    "        return model\n",
    "\n",
    "    def on_predict(self):\n",
    "        seq = self.seq_var.get().strip().upper()\n",
    "        if not seq:\n",
    "            messagebox.showwarning(\"Input Error\", \"Please enter a sequence.\")\n",
    "            return\n",
    "\n",
    "        try:\n",
    "            probs = self._predict(seq)  # → np.ndarray shape (L,)\n",
    "            text = \"\\n\".join(\n",
    "                f\"Pos {i+1} ({aa}): {p:.3f}\"\n",
    "                for i, (aa, p) in enumerate(zip(seq, probs))\n",
    "            )\n",
    "            self._set_output(text)\n",
    "        except Exception as e:\n",
    "            self._set_output(f\"Prediction error:\\n{e}\")\n",
    "    def topk_predictions(self, pred_probs, k=5):\n",
    "        pred = np.zeros_like(pred_probs)\n",
    "        topk_idx = np.argsort(pred_probs)[-k:]\n",
    "        pred[topk_idx] = 1\n",
    "        return pred\n",
    "    def _predict(self, seq: str):\n",
    "        \"\"\"\n",
    "        Discrete prediction (0/1) per residue with adaptive thresholding.\n",
    "        Ensures at least 3 residues are predicted as binding.\n",
    "        \"\"\"\n",
    "        # 1) Get ESM embedding\n",
    "        emb_list = get_esm_embeddings(\n",
    "            [seq],\n",
    "            self.esm_model,\n",
    "            self.alphabet,\n",
    "            self.batch_converter,\n",
    "            self.device,\n",
    "            layer=6,\n",
    "        )\n",
    "        emb = torch.tensor(emb_list[0], dtype=torch.float32).unsqueeze(0).to(self.device)\n",
    "\n",
    "        # 2) Forward pass through model (LSTM + classifier)\n",
    "        with torch.no_grad():\n",
    "            logits = self.classifier(emb)\n",
    "            probs = torch.sigmoid(logits)[0, :].cpu().numpy()\n",
    "\n",
    "        # 3) Apply top-k thresholding\n",
    "        pred_mask = self.topk_predictions(probs, k=5)\n",
    "\n",
    "        return pred_mask  # shape (L,), values 0 or 1\n",
    "\n",
    "    def _set_output(self, text: str):\n",
    "        self.output.config(state=\"normal\")\n",
    "        self.output.delete(\"1.0\", tk.END)\n",
    "        self.output.insert(tk.END, text)\n",
    "        self.output.config(state=\"disabled\")\n",
    "\n"
   ]
  },
  {
   "cell_type": "markdown",
   "metadata": {
    "id": "bhS9S6DbXKVj"
   },
   "source": [
    "Cell 6: Launch the App"
   ]
  },
  {
   "cell_type": "code",
   "execution_count": 13,
   "metadata": {},
   "outputs": [],
   "source": [
    "if __name__ == \"__main__\":\n",
    "    root = tk.Tk()\n",
    "    SequencePredictorApp(root)\n",
    "    root.mainloop()"
   ]
  },
  {
   "cell_type": "code",
   "execution_count": null,
   "metadata": {},
   "outputs": [],
   "source": []
  }
 ],
 "metadata": {
  "colab": {
   "provenance": []
  },
  "kernelspec": {
   "display_name": "Python (.venv) new",
   "language": "python",
   "name": ".venv"
  },
  "language_info": {
   "codemirror_mode": {
    "name": "ipython",
    "version": 3
   },
   "file_extension": ".py",
   "mimetype": "text/x-python",
   "name": "python",
   "nbconvert_exporter": "python",
   "pygments_lexer": "ipython3",
   "version": "3.11.0"
  }
 },
 "nbformat": 4,
 "nbformat_minor": 4
}
